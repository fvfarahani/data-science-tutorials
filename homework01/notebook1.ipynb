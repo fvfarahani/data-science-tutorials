{
  "nbformat": 4,
  "nbformat_minor": 0,
  "metadata": {
    "colab": {
      "name": "notebook1.ipynb",
      "provenance": []
    },
    "kernelspec": {
      "name": "python3",
      "display_name": "Python 3"
    },
    "language_info": {
      "name": "python"
    }
  },
  "cells": [
    {
      "cell_type": "code",
      "execution_count": 6,
      "metadata": {
        "colab": {
          "base_uri": "https://localhost:8080/"
        },
        "id": "fNJyRsXKDBc0",
        "outputId": "fd198316-91bc-46f4-b86f-f42bc76ba1ee"
      },
      "outputs": [
        {
          "output_type": "stream",
          "name": "stdout",
          "text": [
            "By running this chunk, the number 8 will appear on the screen.\n"
          ]
        }
      ],
      "source": [
        "# Google colab test\n",
        "4 + 4\n",
        "\n",
        "print(\"By running this chunk, the number {} will appear on the screen.\".format(_))"
      ]
    }
  ]
}