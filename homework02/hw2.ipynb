{
 "cells": [
  {
   "cell_type": "code",
   "execution_count": null,
   "metadata": {},
   "outputs": [],
   "source": [
    "#%% ####################################\n",
    "# Q1: Hogwart's House\n",
    "# ######################################\n",
    "\n",
    "# declare our variables (Hogwarts houses)\n",
    "gryffindor = 0\n",
    "ravenclaw = 0\n",
    "hufflepuff = 0\n",
    "slytherin = 0\n",
    "\n",
    "# first question\n",
    "q1_answer = input(\"How would you describe yourself? \\na) Brave \\nb) Studious \\nc) Loyal \\nd) Ambitious\\n\")\n",
    "# update variables\n",
    "if q1_answer == 'a':\n",
    "  gryffindor += 1\n",
    "elif q1_answer == 'b':\n",
    "  ravenclaw += 1\n",
    "elif q1_answer == 'c':\n",
    "  hufflepuff += 1\n",
    "elif q1_answer == 'd':\n",
    "  slytherin += 1\n",
    "else:\n",
    "  print(\"Sorry, your answer must be one of the options a, b, c, or d.\")\n",
    "\n",
    "# second question\n",
    "q2_answer = input(\"What can you be found doing on the weekends? \\na) Going on adventures \\nb) Doing my homework \\nc) Spending time with family or friends \\nd) Plotting revenge on my enemies\\n\")\n",
    "# update variables\n",
    "if q2_answer == 'a':\n",
    "  gryffindor += 1\n",
    "elif q2_answer == 'b':\n",
    "  ravenclaw += 1\n",
    "elif q2_answer == 'c':\n",
    "  hufflepuff +=1\n",
    "elif q2_answer == 'd':\n",
    "  slytherin +=1\n",
    "else:\n",
    "  print(\"Sorry, your answer must be one of the options a, b, c, or d.\")\n",
    "\n",
    "# third question\n",
    "q3_answer = input(\"What would you do if the Dark Lord was going to invade your school? \\na) Fight him \\nb) Look up some good defensive curses in a book \\nc) Stand by my friends no matter what \\nd) Help the Dark Lord invade the school as an inside spy\\n\")\n",
    "# update variables\n",
    "if q3_answer == 'a':\n",
    "  gryffindor += 1\n",
    "elif q3_answer == 'b':\n",
    "  ravenclaw += 1\n",
    "elif q3_answer == 'c':\n",
    "  hufflepuff +=1\n",
    "elif q3_answer == 'd':\n",
    "  slytherin +=1\n",
    "else:\n",
    "  print(\"Sorry, your answer must be one of the options a, b, c, or d.\")\n",
    "\n",
    "# sorting the user into their house\n",
    "if gryffindor > ravenclaw and gryffindor > hufflepuff and gryffindor > slytherin:\n",
    "  print(\"***** GRYFFINDOR *****\")\n",
    "elif ravenclaw > gryffindor and ravenclaw > hufflepuff and ravenclaw > slytherin:\n",
    "  print(\"***** RAVENCLAW *****\")\n",
    "elif hufflepuff > gryffindor and hufflepuff > ravenclaw and hufflepuff > slytherin:\n",
    "   print(\"***** HUFFLEPUFF *****\")\n",
    "elif slytherin > gryffindor and slytherin > ravenclaw and slytherin > hufflepuff:\n",
    "  print(\"***** SLYTHERIN *****\")\n",
    "else:\n",
    "  print(\"This quiz needs more questions to recognize your school.\")\n"
   ]
  },
  {
   "cell_type": "code",
   "execution_count": 12,
   "metadata": {},
   "outputs": [
    {
     "data": {
      "text/plain": [
       "28.352014649648403"
      ]
     },
     "execution_count": 12,
     "metadata": {},
     "output_type": "execute_result"
    }
   ],
   "source": [
    "#%% ####################################\n",
    "# Q2: Mean & Standard Deviation\n",
    "# ######################################\n",
    "import numpy as np\n",
    "\n",
    "class statistics:\n",
    "    def __init__(self, mylist):\n",
    "        self.value = mylist\n",
    "        \n",
    "    def mean(self):\n",
    "        return(np.mean(self.value))\n",
    "    \n",
    "    def std(self):\n",
    "        return(np.std(self.value))\n",
    "    \n",
    "    def print(self):\n",
    "        print(self.value)\n",
    "\n",
    "# example\n",
    "mydata = statistics([13,25,46,15,63,16,94])\n",
    "mydata.std()\n"
   ]
  },
  {
   "cell_type": "code",
   "execution_count": null,
   "metadata": {},
   "outputs": [],
   "source": [
    "#%% ####################################\n",
    "# Q3: Creating the lag function\n",
    "# ######################################\n",
    "\n",
    "import numpy as np\n",
    "\n",
    "# define the lag function\n",
    "def lag(a, l):    \n",
    "    \n",
    "    b1 = a[:-l]\n",
    "    b2 = [np.nan] * l\n",
    "    b = np.concatenate((b2, b1))\n",
    "    return b    \n",
    "    \n",
    "# example\n",
    "a = np.array([1, 6, 8, 4])\n",
    "l = 2 # must be an integer > 0\n",
    "print(lag(a, l))\n"
   ]
  },
  {
   "cell_type": "code",
   "execution_count": null,
   "metadata": {},
   "outputs": [],
   "source": [
    "#%% ####################################\n",
    "# Q4: Creating the lagGenerator function\n",
    "# ######################################\n",
    "\n",
    "import numpy as np\n",
    "\n",
    "def lagGenerator(l):\n",
    "    return lag(a, l)\n",
    "\n",
    "# example\n",
    "a = np.array([1, 6, 8, 4])\n",
    "l = 2 # must be an integer > 0\n",
    "print(lagGenerator(l))\n"
   ]
  }
 ],
 "metadata": {
  "kernelspec": {
   "display_name": "Python 3",
   "language": "python",
   "name": "python3"
  },
  "language_info": {
   "codemirror_mode": {
    "name": "ipython",
    "version": 3
   },
   "file_extension": ".py",
   "mimetype": "text/x-python",
   "name": "python",
   "nbconvert_exporter": "python",
   "pygments_lexer": "ipython3",
   "version": "3.8.3"
  }
 },
 "nbformat": 4,
 "nbformat_minor": 4
}
