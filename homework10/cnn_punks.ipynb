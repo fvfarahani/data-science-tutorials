{
 "cells": [
  {
   "cell_type": "markdown",
   "metadata": {},
   "source": [
    "# CNN: Classifying Punks\n",
    "\n",
    "A virus is coming where 50% of the cryptopunks will have contracted a disease where they get a white spot. The code below generates the disease. Your job is as follows\n",
    "\n",
    "1. Generate the data as below\n",
    "2. Train a convolutional neural network to classify punks as diseased or not\n",
    "   1. Create training and validation sets. Contrast in the sensitivity, specificity and accuracy in both sets.\n",
    "   2. Visualize some of your algorithm's mistakes (in both directions) and describe what is happening. In other words, consider punks declared very likely to have a cancer that did not and ones that did not have a cancer that it declared very likely that they did. Plot those. Is there a reason why it seems like it's so wrong for these cases?\n",
    "   3. Create a python function that takes in an np image array just like the cancerpunks one below and gives probabilities that that punk has this disease."
   ]
  },
  {
   "cell_type": "code",
   "execution_count": 96,
   "metadata": {},
   "outputs": [],
   "source": [
    "import urllib.request\n",
    "import PIL\n",
    "import matplotlib.pyplot as plt\n",
    "import numpy as np\n",
    "import tensorflow as tf\n",
    "from tensorflow.keras import layers, models, losses\n",
    "\n",
    "## Open the image\n",
    "imgURL = \"https://raw.githubusercontent.com/larvalabs/cryptopunks/master/punks.png\"\n",
    "urllib.request.urlretrieve(imgURL, \"cryptoPunksAll.jpg\")\n",
    "img = PIL.Image.open(\"cryptoPunksAll.jpg\").convert(\"RGB\")\n",
    "imgArray = np.asarray(img)\n",
    "\n",
    "n = 10000\n",
    "\n",
    "finalArray = np.empty((n, 24, 24, 3))\n",
    "for i in range(100):\n",
    "  for j in range(100):\n",
    "    a, b = 24 * i, 24 * (i + 1)  \n",
    "    c, d = 24 * j, 24 * (j + 1) \n",
    "    idx = j + i * (100)\n",
    "    finalArray[idx,:,:,:] = imgArray[a:b,c:d,:]"
   ]
  },
  {
   "cell_type": "markdown",
   "metadata": {},
   "source": [
    "Our doctors have determined this is the region where the lesion occurs."
   ]
  },
  {
   "cell_type": "code",
   "execution_count": 97,
   "metadata": {},
   "outputs": [
    {
     "data": {
      "text/plain": [
       "<matplotlib.image.AxesImage at 0x14f432790>"
      ]
     },
     "execution_count": 97,
     "metadata": {},
     "output_type": "execute_result"
    },
    {
     "data": {
      "image/png": "[encoded data removed]",
      "text/plain": [
       "<Figure size 432x288 with 1 Axes>"
      ]
     },
     "metadata": {
      "needs_background": "light"
     },
     "output_type": "display_data"
    }
   ],
   "source": [
    "temp = finalArray[0,:,:,:].copy()\n",
    "\n",
    "d2min, d2max = 9,14 \n",
    "d1min, d1max = 11,17\n",
    "\n",
    "temp[d1min:(d1max + 1), d2min:(d2max + 1)] = 255\n",
    "\n",
    "plt.imshow(temp.astype('uint8'))"
   ]
  },
  {
   "cell_type": "code",
   "execution_count": 98,
   "metadata": {},
   "outputs": [],
   "source": [
    "cancerpunks = finalArray.copy()\n",
    "label = np.zeros(n)\n",
    "\n",
    "## Loop over the cryptopunks\n",
    "for i in range(10000):\n",
    "  flip = np.random.randint(0, 2)\n",
    "  if flip == 1:\n",
    "    label[i] = 1\n",
    "    d1loc = np.random.randint(d1min, d1max + 1)\n",
    "    d2loc = np.random.randint(d2min, d2max + 1)\n",
    "    cancerpunks[i,d1loc,d2loc,:] = 255"
   ]
  },
  {
   "cell_type": "code",
   "execution_count": 99,
   "metadata": {},
   "outputs": [
    {
     "data": {
      "image/png": "[encoded data removed]",
      "text/plain": [
       "<Figure size 720x720 with 25 Axes>"
      ]
     },
     "metadata": {},
     "output_type": "display_data"
    }
   ],
   "source": [
    "## plot some examples\n",
    "plt.figure(figsize=(10,10))\n",
    "for i in range(25): \n",
    "  plt.subplot(5,5,i+1)\n",
    "  plt.xticks([])\n",
    "  plt.yticks([])\n",
    "  plt.imshow(cancerpunks[i,:,:,:].astype('uint8'))\n",
    "  plt.title(label[i])"
   ]
  },
  {
   "cell_type": "code",
   "execution_count": 100,
   "metadata": {},
   "outputs": [
    {
     "name": "stdout",
     "output_type": "stream",
     "text": [
      "(10000, 24, 24, 3) <class 'numpy.ndarray'>\n",
      "(10000,) <class 'numpy.ndarray'>\n"
     ]
    }
   ],
   "source": [
    "# shape/type of features and target\n",
    "print(np.shape(cancerpunks), type(cancerpunks))\n",
    "print(np.shape(label), type(label))"
   ]
  },
  {
   "cell_type": "markdown",
   "metadata": {},
   "source": [
    "## Data Preprocessing"
   ]
  },
  {
   "cell_type": "markdown",
   "metadata": {},
   "source": [
    "Let’s normalize our array and split it into testing and training data."
   ]
  },
  {
   "cell_type": "code",
   "execution_count": 101,
   "metadata": {},
   "outputs": [
    {
     "name": "stdout",
     "output_type": "stream",
     "text": [
      "[(7458, 24, 24, 3), (2542, 24, 24, 3)]\n",
      "[(7458, 1), (2542, 1)]\n"
     ]
    }
   ],
   "source": [
    "n = cancerpunks.shape[0]\n",
    "trainFraction = .75\n",
    "sample = np.random.uniform(size = n) < trainFraction\n",
    "x_train = cancerpunks[ sample, :, :, :] / 255\n",
    "x_test =  cancerpunks[~sample, :, :, :] / 255\n",
    "\n",
    "y_train = label[ sample,]\n",
    "y_test =  label[~sample,]\n",
    "## Need to have the extra dimension\n",
    "y_train = y_train.reshape(y_train.shape[0], 1)\n",
    "y_test = y_test.reshape(y_test.shape[0], 1)\n",
    "\n",
    "print([x_train.shape, x_test.shape])\n",
    "print([y_train.shape, y_test.shape])"
   ]
  },
  {
   "cell_type": "code",
   "execution_count": 102,
   "metadata": {},
   "outputs": [
    {
     "name": "stdout",
     "output_type": "stream",
     "text": [
      "[0. 1.] [5070 4930]\n"
     ]
    }
   ],
   "source": [
    "# count the occurrence of 0 and 1 in our target label\n",
    "unique, counts = np.unique(label, return_counts=True)\n",
    "print(unique, counts)"
   ]
  },
  {
   "cell_type": "markdown",
   "metadata": {},
   "source": [
    "## Building the Model from Scratch\n",
    "\n",
    "But before we continue, let's start defining the model:\n",
    "\n",
    "Step 1 will be to import tensorflow."
   ]
  },
  {
   "cell_type": "code",
   "execution_count": 103,
   "metadata": {},
   "outputs": [],
   "source": [
    "import tensorflow as tf\n",
    "import numpy as np\n",
    "from itertools import cycle\n",
    "\n",
    "from sklearn import svm, datasets\n",
    "from sklearn.metrics import roc_curve, auc\n",
    "from sklearn.model_selection import train_test_split\n",
    "from sklearn.preprocessing import label_binarize\n",
    "from sklearn.multiclass import OneVsRestClassifier\n",
    "from scipy import interp\n",
    "from sklearn.metrics import roc_auc_score"
   ]
  },
  {
   "cell_type": "markdown",
   "metadata": {},
   "source": [
    "Let's then add a Flatten layer that flattens the input image, which then feeds into the next layer, a Dense layer, or fully-connected layer, with 128 hidden units. Finally, because our goal is to perform binary classification, our final layer will be a sigmoid, so that the output of our network will be a single scalar between 0 and 1, encoding the probability that the current image is of class 1 (class 1 being diseased and class 0 being healthy)."
   ]
  },
  {
   "cell_type": "code",
   "execution_count": 104,
   "metadata": {},
   "outputs": [],
   "source": [
    "model = tf.keras.models.Sequential([tf.keras.layers.Flatten(input_shape = (24,24,3)), \n",
    "                                    tf.keras.layers.Dense(128, activation=tf.nn.relu), \n",
    "                                    tf.keras.layers.Dense(1, activation=tf.nn.sigmoid)])"
   ]
  },
  {
   "cell_type": "markdown",
   "metadata": {},
   "source": [
    "The model.summary() method call prints a summary of the NN"
   ]
  },
  {
   "cell_type": "code",
   "execution_count": 105,
   "metadata": {},
   "outputs": [
    {
     "name": "stdout",
     "output_type": "stream",
     "text": [
      "Model: \"sequential_6\"\n",
      "_________________________________________________________________\n",
      " Layer (type)                Output Shape              Param #   \n",
      "=================================================================\n",
      " flatten_6 (Flatten)         (None, 1728)              0         \n",
      "                                                                 \n",
      " dense_12 (Dense)            (None, 128)               221312    \n",
      "                                                                 \n",
      " dense_13 (Dense)            (None, 1)                 129       \n",
      "                                                                 \n",
      "=================================================================\n",
      "Total params: 221,441\n",
      "Trainable params: 221,441\n",
      "Non-trainable params: 0\n",
      "_________________________________________________________________\n"
     ]
    }
   ],
   "source": [
    "model.summary()"
   ]
  },
  {
   "cell_type": "markdown",
   "metadata": {},
   "source": [
    "Next, we'll configure the specifications for model training. We will train our model with the `binary_crossentropy` loss. We will use the `Adam` optimizer. [Adam](https://wikipedia.org/wiki/Stochastic_gradient_descent#Adam) is a sensible optimization algorithm because it automates learning-rate tuning for us (alternatively, we could also use [RMSProp](https://wikipedia.org/wiki/Stochastic_gradient_descent#RMSProp) or [Adagrad](https://developers.google.com/machine-learning/glossary/#AdaGrad) for similar results). We will add accuracy to `metrics` so that the model will monitor accuracy during training"
   ]
  },
  {
   "cell_type": "code",
   "execution_count": 106,
   "metadata": {},
   "outputs": [],
   "source": [
    "model.compile(optimizer = tf.optimizers.Adam(),\n",
    "              loss = 'binary_crossentropy',\n",
    "              metrics=['accuracy'])"
   ]
  },
  {
   "cell_type": "markdown",
   "metadata": {},
   "source": [
    "## Training"
   ]
  },
  {
   "cell_type": "markdown",
   "metadata": {},
   "source": [
    "Let's train for 30 epochs. \n",
    "\n",
    "Notice that as we train, our validation accuracy never exceeds training accuracy, which is a good thing. Our model won't work better on unseen images than seen images."
   ]
  },
  {
   "cell_type": "code",
   "execution_count": 107,
   "metadata": {},
   "outputs": [
    {
     "name": "stdout",
     "output_type": "stream",
     "text": [
      "Epoch 1/30\n",
      "234/234 [==============================] - 1s 2ms/step - loss: 0.7004 - accuracy: 0.5059 - val_loss: 0.6958 - val_accuracy: 0.5197\n",
      "Epoch 2/30\n",
      "234/234 [==============================] - 0s 2ms/step - loss: 0.6933 - accuracy: 0.5227 - val_loss: 0.6928 - val_accuracy: 0.5173\n",
      "Epoch 3/30\n",
      "234/234 [==============================] - 0s 2ms/step - loss: 0.6911 - accuracy: 0.5358 - val_loss: 0.6957 - val_accuracy: 0.5271\n",
      "Epoch 4/30\n",
      "234/234 [==============================] - 0s 2ms/step - loss: 0.6882 - accuracy: 0.5440 - val_loss: 0.7009 - val_accuracy: 0.5102\n",
      "Epoch 5/30\n",
      "234/234 [==============================] - 0s 2ms/step - loss: 0.6873 - accuracy: 0.5422 - val_loss: 0.6873 - val_accuracy: 0.5472\n",
      "Epoch 6/30\n",
      "234/234 [==============================] - 0s 2ms/step - loss: 0.6815 - accuracy: 0.5687 - val_loss: 0.6865 - val_accuracy: 0.5559\n",
      "Epoch 7/30\n",
      "234/234 [==============================] - 0s 2ms/step - loss: 0.6787 - accuracy: 0.5740 - val_loss: 0.6877 - val_accuracy: 0.5535\n",
      "Epoch 8/30\n",
      "234/234 [==============================] - 0s 2ms/step - loss: 0.6767 - accuracy: 0.5796 - val_loss: 0.6975 - val_accuracy: 0.5358\n",
      "Epoch 9/30\n",
      "234/234 [==============================] - 0s 2ms/step - loss: 0.6713 - accuracy: 0.5963 - val_loss: 0.6747 - val_accuracy: 0.5834\n",
      "Epoch 10/30\n",
      "234/234 [==============================] - 0s 2ms/step - loss: 0.6623 - accuracy: 0.6097 - val_loss: 0.6733 - val_accuracy: 0.5932\n",
      "Epoch 11/30\n",
      "234/234 [==============================] - 0s 2ms/step - loss: 0.6576 - accuracy: 0.6181 - val_loss: 0.6823 - val_accuracy: 0.5641\n",
      "Epoch 12/30\n",
      "234/234 [==============================] - 0s 2ms/step - loss: 0.6479 - accuracy: 0.6352 - val_loss: 0.6680 - val_accuracy: 0.5901\n",
      "Epoch 13/30\n",
      "234/234 [==============================] - 0s 2ms/step - loss: 0.6429 - accuracy: 0.6329 - val_loss: 0.6854 - val_accuracy: 0.5688\n",
      "Epoch 14/30\n",
      "234/234 [==============================] - 0s 2ms/step - loss: 0.6323 - accuracy: 0.6470 - val_loss: 0.6466 - val_accuracy: 0.6412\n",
      "Epoch 15/30\n",
      "234/234 [==============================] - 0s 2ms/step - loss: 0.6237 - accuracy: 0.6600 - val_loss: 0.6464 - val_accuracy: 0.6330\n",
      "Epoch 16/30\n",
      "234/234 [==============================] - 0s 2ms/step - loss: 0.6130 - accuracy: 0.6683 - val_loss: 0.6391 - val_accuracy: 0.6424\n",
      "Epoch 17/30\n",
      "234/234 [==============================] - 0s 2ms/step - loss: 0.6048 - accuracy: 0.6755 - val_loss: 0.6369 - val_accuracy: 0.6554\n",
      "Epoch 18/30\n",
      "234/234 [==============================] - 0s 2ms/step - loss: 0.5952 - accuracy: 0.6889 - val_loss: 0.6459 - val_accuracy: 0.6511\n",
      "Epoch 19/30\n",
      "234/234 [==============================] - 0s 2ms/step - loss: 0.5843 - accuracy: 0.7053 - val_loss: 0.6492 - val_accuracy: 0.6330\n",
      "Epoch 20/30\n",
      "234/234 [==============================] - 0s 2ms/step - loss: 0.5771 - accuracy: 0.7062 - val_loss: 0.6032 - val_accuracy: 0.6983\n",
      "Epoch 21/30\n",
      "234/234 [==============================] - 0s 2ms/step - loss: 0.5587 - accuracy: 0.7231 - val_loss: 0.6064 - val_accuracy: 0.6589\n",
      "Epoch 22/30\n",
      "234/234 [==============================] - 0s 2ms/step - loss: 0.5523 - accuracy: 0.7289 - val_loss: 0.5939 - val_accuracy: 0.6896\n",
      "Epoch 23/30\n",
      "234/234 [==============================] - 0s 2ms/step - loss: 0.5361 - accuracy: 0.7416 - val_loss: 0.5932 - val_accuracy: 0.6798\n",
      "Epoch 24/30\n",
      "234/234 [==============================] - 0s 2ms/step - loss: 0.5255 - accuracy: 0.7550 - val_loss: 0.5687 - val_accuracy: 0.7207\n",
      "Epoch 25/30\n",
      "234/234 [==============================] - 0s 2ms/step - loss: 0.5207 - accuracy: 0.7608 - val_loss: 0.5650 - val_accuracy: 0.7148\n",
      "Epoch 26/30\n",
      "234/234 [==============================] - 0s 2ms/step - loss: 0.5029 - accuracy: 0.7726 - val_loss: 0.5512 - val_accuracy: 0.7325\n",
      "Epoch 27/30\n",
      "234/234 [==============================] - 0s 2ms/step - loss: 0.4915 - accuracy: 0.7750 - val_loss: 0.5924 - val_accuracy: 0.6723\n",
      "Epoch 28/30\n",
      "234/234 [==============================] - 0s 2ms/step - loss: 0.4930 - accuracy: 0.7684 - val_loss: 0.5829 - val_accuracy: 0.6880\n",
      "Epoch 29/30\n",
      "234/234 [==============================] - 0s 2ms/step - loss: 0.4749 - accuracy: 0.7853 - val_loss: 0.5870 - val_accuracy: 0.6876\n",
      "Epoch 30/30\n",
      "234/234 [==============================] - 0s 2ms/step - loss: 0.4642 - accuracy: 0.8016 - val_loss: 0.5256 - val_accuracy: 0.7514\n"
     ]
    }
   ],
   "source": [
    "history = model.fit(x_train, y_train, \n",
    "      validation_data=(x_test, y_test),\n",
    "      #steps_per_epoch=8, validation_steps=8,\n",
    "      epochs=30,\n",
    "      verbose=1)"
   ]
  },
  {
   "cell_type": "markdown",
   "metadata": {},
   "source": [
    "## Accuracy, ROC Curve, and AUC\n",
    "\n",
    "Let's evaluate the accuracy of our model:"
   ]
  },
  {
   "cell_type": "code",
   "execution_count": 108,
   "metadata": {},
   "outputs": [
    {
     "name": "stdout",
     "output_type": "stream",
     "text": [
      "80/80 [==============================] - 0s 943us/step - loss: 0.5256 - accuracy: 0.7514\n"
     ]
    },
    {
     "data": {
      "text/plain": [
       "[0.5255604982376099, 0.7513768672943115]"
      ]
     },
     "execution_count": 108,
     "metadata": {},
     "output_type": "execute_result"
    }
   ],
   "source": [
    "model.evaluate(x_test, y_test)"
   ]
  },
  {
   "cell_type": "markdown",
   "metadata": {},
   "source": [
    "For calculating/plotting our ROC curve, first, let's make predictions on our validation set:"
   ]
  },
  {
   "cell_type": "code",
   "execution_count": 109,
   "metadata": {},
   "outputs": [],
   "source": [
    "preds = (model.predict(x_test) > 0.5).astype(\"int32\")"
   ]
  },
  {
   "cell_type": "markdown",
   "metadata": {},
   "source": [
    "To create the ROC curve and AUC, we'll need to compute the false-positive rate and the true-positive rate:"
   ]
  },
  {
   "cell_type": "code",
   "execution_count": 110,
   "metadata": {},
   "outputs": [],
   "source": [
    "fpr, tpr, _ = roc_curve(y_test, preds)\n",
    "\n",
    "roc_auc = auc(fpr, tpr)"
   ]
  },
  {
   "cell_type": "code",
   "execution_count": 111,
   "metadata": {},
   "outputs": [
    {
     "data": {
      "image/png": "[encoded data removed]",
      "text/plain": [
       "<Figure size 432x288 with 1 Axes>"
      ]
     },
     "metadata": {
      "needs_background": "light"
     },
     "output_type": "display_data"
    }
   ],
   "source": [
    "plt.figure()\n",
    "lw = 2\n",
    "plt.plot(fpr, tpr, color='darkorange',\n",
    "         lw=lw, label='ROC curve (area = %0.2f)' % roc_auc)\n",
    "plt.plot([0, 1], [0, 1], color='navy', lw=lw, linestyle='--')\n",
    "plt.xlim([0.0, 1.0])\n",
    "plt.ylim([0.0, 1.05])\n",
    "plt.xlabel('False Positive Rate')\n",
    "plt.ylabel('True Positive Rate')\n",
    "plt.title('Receiver Operating Characteristic')\n",
    "plt.legend(loc=\"lower right\")\n",
    "plt.show()"
   ]
  },
  {
   "cell_type": "markdown",
   "metadata": {},
   "source": [
    "The ROC curve is a probability curve plotting the true-positive rate (TPR) against the false-positive rate (FPR). In this curve, the diagonal line is the curve for random guessing, e.g. coin flipping, so the ROC curve above shows that our model does better than chance at classifying between diseased or healthy punks.\n",
    "\n",
    "Similarly, the AUC (area under curve), as shown in the legend above, measures how much our model is capable of distinguishing between our two classes. The higher the AUC, the better our model is at classification."
   ]
  },
  {
   "cell_type": "markdown",
   "metadata": {},
   "source": [
    "## Visualize algorithm's mistakes"
   ]
  },
  {
   "cell_type": "markdown",
   "metadata": {},
   "source": [
    "Visualize some of your algorithm's mistakes (in both directions) and describe what is happening. In other words, consider punks declared very likely to have a cancer that did not and ones that did not have a cancer that it declared very likely that they did. Plot those. Is there a reason why it seems like it's so wrong for these cases?\n",
    "\n",
    "Answer: First, please look at the following wrong cases, i.e., one false negative (FN) and one false positive (FP). Based on the plotted figures, there are multiple one-pixel areas in both examples, such as the eyes and nose. The intensity differences of those one-pixel areas with the skin tone of these punks could be one reason for these mistakes. The more significant this difference, the greater the likelihood of false positive, and the lower this difference, the lower the possibility of false negative."
   ]
  },
  {
   "cell_type": "markdown",
   "metadata": {},
   "source": [
    "### False negative (FN) example: Very likely to have a cancer that did not"
   ]
  },
  {
   "cell_type": "code",
   "execution_count": 138,
   "metadata": {},
   "outputs": [
    {
     "data": {
      "text/plain": [
       "Text(0.5, 1.0, 'Observed label: 1 \\nPredicted label: 0')"
      ]
     },
     "execution_count": 138,
     "metadata": {},
     "output_type": "execute_result"
    },
    {
     "data": {
      "image/png": "[encoded data removed]",
      "text/plain": [
       "<Figure size 432x288 with 1 Axes>"
      ]
     },
     "metadata": {
      "needs_background": "light"
     },
     "output_type": "display_data"
    }
   ],
   "source": [
    "idx_fn = 0 # index of a FN example\n",
    "\n",
    "plt.imshow(x_test[idx_fn,:,:,:])\n",
    "plt.title(\"Observed label: {t} \\nPredicted label: {p}\".format(t=int(y_test[idx_fn]), p=int(preds[idx_fn])))"
   ]
  },
  {
   "cell_type": "markdown",
   "metadata": {},
   "source": [
    "### False positive (FP) example: Ones that did not have a cancer that it declared very likely that they did"
   ]
  },
  {
   "cell_type": "code",
   "execution_count": 136,
   "metadata": {},
   "outputs": [
    {
     "data": {
      "text/plain": [
       "Text(0.5, 1.0, 'Observed label: 0 \\nPredicted label: 1')"
      ]
     },
     "execution_count": 136,
     "metadata": {},
     "output_type": "execute_result"
    },
    {
     "data": {
      "image/png": "[encoded data removed]",
      "text/plain": [
       "<Figure size 432x288 with 1 Axes>"
      ]
     },
     "metadata": {
      "needs_background": "light"
     },
     "output_type": "display_data"
    }
   ],
   "source": [
    "idx_fp = 1 # index of a FP example\n",
    "\n",
    "plt.imshow(x_test[idx_fp,:,:,:])\n",
    "plt.title(\"Observed label: {t} \\nPredicted label: {p}\".format(t=int(y_test[idx_fp]), p=int(preds[idx_fp])))"
   ]
  },
  {
   "cell_type": "markdown",
   "metadata": {},
   "source": [
    "## Predict new image (new cancerpunks)\n",
    "\n",
    "Create a python function that takes in an np image array just like the cancerpunks one below and gives probabilities that that punk has this disease.\n",
    "\n",
    "Let's first create the cancerpunks as below:"
   ]
  },
  {
   "cell_type": "code",
   "execution_count": 155,
   "metadata": {},
   "outputs": [
    {
     "data": {
      "text/plain": [
       "<matplotlib.image.AxesImage at 0x151150d60>"
      ]
     },
     "execution_count": 155,
     "metadata": {},
     "output_type": "execute_result"
    },
    {
     "data": {
      "image/png": "[encoded data removed]",
      "text/plain": [
       "<Figure size 432x288 with 1 Axes>"
      ]
     },
     "metadata": {
      "needs_background": "light"
     },
     "output_type": "display_data"
    }
   ],
   "source": [
    "new_image = finalArray[100,:,:,:].copy()\n",
    "\n",
    "d2min, d2max = 10,10 \n",
    "d1min, d1max = 16,16\n",
    "\n",
    "new_image[d1min:(d1max + 1), d2min:(d2max + 1)] = 255\n",
    "\n",
    "plt.imshow(new_image.astype('uint8'))"
   ]
  },
  {
   "cell_type": "markdown",
   "metadata": {},
   "source": [
    "Now, predict and calculate the probabilities that that punk has this disease:"
   ]
  },
  {
   "cell_type": "code",
   "execution_count": 156,
   "metadata": {},
   "outputs": [
    {
     "data": {
      "text/plain": [
       "array([[1.]], dtype=float32)"
      ]
     },
     "execution_count": 156,
     "metadata": {},
     "output_type": "execute_result"
    }
   ],
   "source": [
    "new_image = np.expand_dims(new_image,axis=0)\n",
    "\n",
    "model.predict(new_image)"
   ]
  },
  {
   "cell_type": "code",
   "execution_count": null,
   "metadata": {},
   "outputs": [],
   "source": []
  }
 ],
 "metadata": {
  "kernelspec": {
   "display_name": "Python 3",
   "language": "python",
   "name": "python3"
  },
  "language_info": {
   "codemirror_mode": {
    "name": "ipython",
    "version": 3
   },
   "file_extension": ".py",
   "mimetype": "text/x-python",
   "name": "python",
   "nbconvert_exporter": "python",
   "pygments_lexer": "ipython3",
   "version": "3.8.3"
  }
 },
 "nbformat": 4,
 "nbformat_minor": 4
}
